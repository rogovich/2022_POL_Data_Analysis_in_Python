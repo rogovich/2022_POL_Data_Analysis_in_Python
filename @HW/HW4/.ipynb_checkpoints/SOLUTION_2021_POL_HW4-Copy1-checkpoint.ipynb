{
 "cells": [
  {
   "cell_type": "markdown",
   "metadata": {},
   "source": [
    "# Домашнее задание № 4\n",
    "\n",
    "Максимум 11 баллов. Бонусный балл идет в ведомость."
   ]
  },
  {
   "cell_type": "code",
   "execution_count": null,
   "metadata": {},
   "outputs": [],
   "source": [
    "import pandas as pd\n",
    "from sklearn.model_selection import train_test_split\n",
    "from sklearn.feature_extraction.text import CountVectorizer\n",
    "from sklearn.ensemble import RandomForestClassifier\n",
    "from sklearn.metrics import accuracy_score\n",
    "import pymorphy2\n",
    "import requests\n",
    "import matplotlib.pyplot as plt"
   ]
  },
  {
   "cell_type": "markdown",
   "metadata": {},
   "source": [
    "## 1. Знакомство с данными (1 балл)\n",
    "\n",
    "### 1) Загрузка данных (0.5 балла)\n",
    "\n",
    "Загрузите данные по [ссылке](https://raw.githubusercontent.com/rogovich/Data/master/data/lenta_news.txt) в датафрейм и выведите первые пять строк данных и размерность датафрейма."
   ]
  },
  {
   "cell_type": "code",
   "execution_count": 104,
   "metadata": {},
   "outputs": [
    {
     "data": {
      "text/html": [
       "<div>\n",
       "<style scoped>\n",
       "    .dataframe tbody tr th:only-of-type {\n",
       "        vertical-align: middle;\n",
       "    }\n",
       "\n",
       "    .dataframe tbody tr th {\n",
       "        vertical-align: top;\n",
       "    }\n",
       "\n",
       "    .dataframe thead th {\n",
       "        text-align: right;\n",
       "    }\n",
       "</style>\n",
       "<table border=\"1\" class=\"dataframe\">\n",
       "  <thead>\n",
       "    <tr style=\"text-align: right;\">\n",
       "      <th></th>\n",
       "      <th>text</th>\n",
       "      <th>label</th>\n",
       "    </tr>\n",
       "  </thead>\n",
       "  <tbody>\n",
       "    <tr>\n",
       "      <th>0</th>\n",
       "      <td>Нагревшийся телефон нельзя пытаться охладить с...</td>\n",
       "      <td>science</td>\n",
       "    </tr>\n",
       "    <tr>\n",
       "      <th>1</th>\n",
       "      <td>Майское обновление Windows вызвало проблемы со...</td>\n",
       "      <td>science</td>\n",
       "    </tr>\n",
       "    <tr>\n",
       "      <th>2</th>\n",
       "      <td>Ученые Калифорнийского университета в Дэвисе о...</td>\n",
       "      <td>science</td>\n",
       "    </tr>\n",
       "    <tr>\n",
       "      <th>3</th>\n",
       "      <td>Британский ученый Тим Спектор раскрыл связь ме...</td>\n",
       "      <td>science</td>\n",
       "    </tr>\n",
       "    <tr>\n",
       "      <th>4</th>\n",
       "      <td>Международная группа ученых раскрыла загадку, ...</td>\n",
       "      <td>science</td>\n",
       "    </tr>\n",
       "  </tbody>\n",
       "</table>\n",
       "</div>"
      ],
      "text/plain": [
       "                                                text    label\n",
       "0  Нагревшийся телефон нельзя пытаться охладить с...  science\n",
       "1  Майское обновление Windows вызвало проблемы со...  science\n",
       "2  Ученые Калифорнийского университета в Дэвисе о...  science\n",
       "3  Британский ученый Тим Спектор раскрыл связь ме...  science\n",
       "4  Международная группа ученых раскрыла загадку, ...  science"
      ]
     },
     "execution_count": 104,
     "metadata": {},
     "output_type": "execute_result"
    }
   ],
   "source": [
    "data = pd.read_csv('https://raw.githubusercontent.com/rogovich/Data/master/data/lenta_news.txt')\n",
    "data.head()"
   ]
  },
  {
   "cell_type": "code",
   "execution_count": 105,
   "metadata": {},
   "outputs": [
    {
     "data": {
      "text/plain": [
       "(359, 2)"
      ]
     },
     "execution_count": 105,
     "metadata": {},
     "output_type": "execute_result"
    }
   ],
   "source": [
    "data.shape"
   ]
  },
  {
   "cell_type": "markdown",
   "metadata": {},
   "source": [
    "### 2) Целевая переменная (0.5 балла)\n",
    "Исследуйте колонку `label`. Сколько и каких уникальных значений она содержит?"
   ]
  },
  {
   "cell_type": "code",
   "execution_count": 3,
   "metadata": {},
   "outputs": [
    {
     "data": {
      "text/plain": [
       "array(['science', 'culture', 'sport', 'economics', 'travel'], dtype=object)"
      ]
     },
     "execution_count": 3,
     "metadata": {},
     "output_type": "execute_result"
    }
   ],
   "source": [
    "data['label'].unique()"
   ]
  },
  {
   "cell_type": "code",
   "execution_count": 121,
   "metadata": {},
   "outputs": [
    {
     "data": {
      "text/plain": [
       "5"
      ]
     },
     "execution_count": 121,
     "metadata": {},
     "output_type": "execute_result"
    }
   ],
   "source": [
    "len(data['label'].unique())"
   ]
  },
  {
   "cell_type": "markdown",
   "metadata": {},
   "source": [
    "## 3. Очистка текста (4.5 балла + 1 бонусный балл)\n",
    "\n",
    "### 1) Приводим к нижнему регистру (0.5 балла)\n",
    "В задании 3 работаем с переменной `example` и ее производными. В первую очередь нам нужно привести весь текст к нижнему регистру. Сохраните результат в `example_lower`.\n"
   ]
  },
  {
   "cell_type": "code",
   "execution_count": 122,
   "metadata": {},
   "outputs": [],
   "source": [
    "example = data['text'][0]\n",
    "\n",
    "example_lower = example.lower()"
   ]
  },
  {
   "cell_type": "markdown",
   "metadata": {},
   "source": [
    "### 2) Удаляем пунктуацию и оставляем кириллицу (0.5 балла)\n",
    "Теперь нам нужно оставить только слова, написанные полностью кириллицей и избавиться от знаков препинания. Импортируйте модуль `re`, и с помощью функции `.findall()` извлеките из `example_lower` только те токены, которые соответсвуют шаблону `'[а-яё]+'`. Сохраните результат (список токенов) в `example_cyr`."
   ]
  },
  {
   "cell_type": "code",
   "execution_count": 110,
   "metadata": {},
   "outputs": [],
   "source": [
    "import re\n",
    "\n",
    "example_cyr = re.findall('[а-яё]+', example_lower)"
   ]
  },
  {
   "cell_type": "markdown",
   "metadata": {},
   "source": [
    "### 3) Нормализуем текст (1 балл)\n",
    "Теперь нам нужно нормализовать текст. Инициализируйте класс `MorphAnalyzer()` из библиотеки `pymorphy2`. Дальше с помощью метода класса `.parse` для каждого слова найдите его нормальную форму. Из списка вероятных словарных форм выбирайте самую вероятную — ту, которая хранится под индексом 0. Сохраните список нормальных форм слов в `example_morph`"
   ]
  },
  {
   "cell_type": "code",
   "execution_count": 111,
   "metadata": {},
   "outputs": [
    {
     "name": "stdout",
     "output_type": "stream",
     "text": [
      "['нагреться', 'телефон', 'нельзя', 'пытаться', 'охладить', 'с', 'помощь', 'холодильник', 'или', 'иной', 'экстремальный', 'метод', 'о', 'это', 'в', 'разговор', 'с', 'риа', 'новость', 'заявить', 'директор', 'региональный', 'инжиниринговый', 'центр', 'национальный', 'технологический', 'инициатива', 'нти', 'денис', 'кувиковый', 'автор', 'отметить', 'что', 'в', 'последний', 'время', 'аномально', 'высокий', 'температура', 'наблюдаться', 'в', 'многий', 'российский', 'регион', 'в', 'это', 'случай', 'есть', 'риск', 'перегрев', 'смартфон', 'и', 'он', 'дальнейший', 'возгорание', 'кувиковый', 'перечислить', 'способ', 'который', 'позволить', 'защитить', 'гаджет', 'от', 'жара', 'в', 'первый', 'очередь', 'нужно', 'знать', 'что', 'нагреться', 'аппарат', 'нельзя', 'пытаться', 'быстро', 'охладить', 'шоковый', 'терапия', 'мочь', 'окончательно', 'убить', 'он', 'необходимо', 'снять', 'чехол', 'отключить', 'мобильный', 'интернет', 'и', 'оставить', 'девайс', 'в', 'прохладный', 'место', 'ещё', 'один', 'способ', 'защита', 'эксперт', 'назвать', 'грамотный', 'профилактика', 'лето', 'смартфон', 'нельзя', 'оставлять', 'под', 'воздействие', 'прямой', 'солнечный', 'луч', 'также', 'не', 'рекомендоваться', 'использовать', 'плотный', 'чехол', 'который', 'мочь', 'нарушить', 'циркуляция', 'воздух', 'заранее', 'отрегулировать', 'внутренний', 'настройка', 'сократить', 'уровень', 'яркость', 'экран', 'выключить', 'и', 'отменить', 'автоматический', 'обновление', 'приложение', 'отметить', 'специалист', 'кроме', 'тот', 'хороший', 'не', 'запускать', 'одновременно', 'большой', 'количество', 'приложение', 'так', 'как', 'это', 'приводить', 'к', 'повышенный', 'нагрев', 'девайс', 'также', 'кувиковый', 'посоветовать', 'не', 'использовать', 'смартфон', 'при', 'температура', 'выше', 'градус', 'конечно', 'современный', 'смартфон', 'и', 'планшет', 'перед', 'выпуск', 'в', 'продажа', 'тщательно', 'тестировать', 'на', 'эффективность', 'работа', 'в', 'условие', 'экстремальный', 'холод', 'и', 'жара', 'а', 'некоторый', 'устройство', 'даже', 'иметь', 'функция', 'автоматический', 'выключение', 'при', 'высокий', 'уровень', 'температура', 'аккумулятор', 'отметить', 'автор', 'однако', 'риск', 'возгорание', 'батарея', 'всё', 'равно', 'присутствовать', 'лето', 'год', 'специалист', 'бенчмарка', 'назвать', 'самый', 'склонный', 'к', 'перегрев', 'смартфон', 'среди', 'азиатский', 'бренд', 'самый', 'холодный', 'аппарат', 'оказаться', 'девайс', 'и', 'самый', 'горячий', 'телефон', 'в', 'сводный', 'антирейтинг', 'смартфон', 'лидировать', 'корпус', 'который', 'нагреться', 'до', 'градус']\n"
     ]
    }
   ],
   "source": [
    "morph = pymorphy2.MorphAnalyzer()\n",
    "\n",
    "example_morph = []\n",
    "for word in example_new.split():\n",
    "    example_morph.append(morph.parse(word)[0].normal_form)\n",
    "    \n",
    "print(example_morph)"
   ]
  },
  {
   "cell_type": "markdown",
   "metadata": {},
   "source": [
    "### 4) Частотность-1 (1 балл)\n",
    "Давайте пока посмотрим, какие слова у нас самые частотные. Создайте словарь `count_dirty`, где ключами будут слова из `example_morph`, а значениями — их частотность. Затем с помощью сортировки объекта `DictItems` найдите 10 самых частотных слов."
   ]
  },
  {
   "cell_type": "code",
   "execution_count": 112,
   "metadata": {},
   "outputs": [],
   "source": [
    "counts_dirty = {}\n",
    "\n",
    "for word in example_morph:\n",
    "    word = word.strip()\n",
    "    counts_dirty[word] = counts_dirty.get(word, 0) + 1\n",
    "    \n",
    "top_10_dirty = sorted(counts_dirty.items(), key=lambda x: x[1], reverse=True)[:10]"
   ]
  },
  {
   "cell_type": "code",
   "execution_count": 113,
   "metadata": {},
   "outputs": [
    {
     "data": {
      "text/plain": [
       "[('в', 9),\n",
       " ('смартфон', 6),\n",
       " ('и', 6),\n",
       " ('нагреться', 3),\n",
       " ('нельзя', 3),\n",
       " ('это', 3),\n",
       " ('кувиковый', 3),\n",
       " ('отметить', 3),\n",
       " ('температура', 3),\n",
       " ('который', 3)]"
      ]
     },
     "execution_count": 113,
     "metadata": {},
     "output_type": "execute_result"
    }
   ],
   "source": [
    "top_10_dirty"
   ]
  },
  {
   "cell_type": "markdown",
   "metadata": {},
   "source": [
    "### 5) График-1 (бонус, 0.5)\n",
    "Визуализируйте с помощью столбчатой диаграммы 10 самых частотных слов из словаря `counts_dirty`. Разверните подписи на шкале x на 90 градусов."
   ]
  },
  {
   "cell_type": "code",
   "execution_count": 61,
   "metadata": {},
   "outputs": [
    {
     "data": {
      "image/png": "[encoded data removed]",
      "text/plain": [
       "<Figure size 432x288 with 1 Axes>"
      ]
     },
     "metadata": {
      "needs_background": "light"
     },
     "output_type": "display_data"
    }
   ],
   "source": [
    "plt.bar([k for k,v in top_10_dirty], [v for k,v in top_10_dirty])\n",
    "plt.xticks(rotation = 90)\n",
    "plt.show()"
   ]
  },
  {
   "cell_type": "markdown",
   "metadata": {},
   "source": [
    "### 6) Удаление стоп-слов (1 балл)\n",
    "А теперь давайте удалим стоп-слова. Загрузите списко стоп-слов `ru_stopwords` по ссылке ниже. Пройдитесь циклом по `example_morph` и добавьте в новый список `example_clean` только те слова, которые не являются стоп-словами."
   ]
  },
  {
   "cell_type": "code",
   "execution_count": 34,
   "metadata": {},
   "outputs": [
    {
     "name": "stdout",
     "output_type": "stream",
     "text": [
      "['c', 'а', 'алло', 'без', 'белый', 'близко', 'более', 'больше', 'большой', 'будем']\n"
     ]
    }
   ],
   "source": [
    "ru_stopwords = requests.get('https://raw.githubusercontent.com/stopwords-iso/stopwords-ru/master/stopwords-ru.txt').text.split()\n",
    "print(ru_stopwords[:10])"
   ]
  },
  {
   "cell_type": "code",
   "execution_count": 115,
   "metadata": {},
   "outputs": [
    {
     "name": "stdout",
     "output_type": "stream",
     "text": [
      "['нагреться', 'телефон', 'пытаться', 'охладить', 'помощь', 'холодильник', 'иной', 'экстремальный', 'метод', 'разговор', 'риа', 'новость', 'заявить', 'директор', 'региональный', 'инжиниринговый', 'центр', 'национальный', 'технологический', 'инициатива', 'нти', 'денис', 'кувиковый', 'автор', 'отметить', 'аномально', 'высокий', 'температура', 'наблюдаться', 'многий', 'российский', 'регион', 'риск', 'перегрев', 'смартфон', 'дальнейший', 'возгорание', 'кувиковый', 'перечислить', 'способ', 'позволить', 'защитить', 'гаджет', 'жара', 'очередь', 'нагреться', 'аппарат', 'пытаться', 'быстро', 'охладить', 'шоковый', 'терапия', 'окончательно', 'убить', 'необходимо', 'снять', 'чехол', 'отключить', 'мобильный', 'интернет', 'оставить', 'девайс', 'прохладный', 'способ', 'защита', 'эксперт', 'назвать', 'грамотный', 'профилактика', 'лето', 'смартфон', 'оставлять', 'воздействие', 'прямой', 'солнечный', 'луч', 'рекомендоваться', 'использовать', 'плотный', 'чехол', 'нарушить', 'циркуляция', 'воздух', 'заранее', 'отрегулировать', 'внутренний', 'настройка', 'сократить', 'уровень', 'яркость', 'экран', 'выключить', 'отменить', 'автоматический', 'обновление', 'приложение', 'отметить', 'специалист', 'запускать', 'одновременно', 'количество', 'приложение', 'приводить', 'повышенный', 'нагрев', 'девайс', 'кувиковый', 'посоветовать', 'использовать', 'смартфон', 'температура', 'выше', 'градус', 'современный', 'смартфон', 'планшет', 'выпуск', 'продажа', 'тщательно', 'тестировать', 'эффективность', 'условие', 'экстремальный', 'холод', 'жара', 'устройство', 'функция', 'автоматический', 'выключение', 'высокий', 'уровень', 'температура', 'аккумулятор', 'отметить', 'автор', 'риск', 'возгорание', 'батарея', 'равно', 'присутствовать', 'лето', 'специалист', 'бенчмарка', 'назвать', 'склонный', 'перегрев', 'смартфон', 'среди', 'азиатский', 'бренд', 'холодный', 'аппарат', 'девайс', 'горячий', 'телефон', 'сводный', 'антирейтинг', 'смартфон', 'лидировать', 'корпус', 'нагреться', 'градус']\n"
     ]
    }
   ],
   "source": [
    "example_clean = []\n",
    "\n",
    "for word in example_morph:\n",
    "    if word not in ru_stopwords:\n",
    "        example_clean.append(word)\n",
    "        \n",
    "print(example_clean)"
   ]
  },
  {
   "cell_type": "markdown",
   "metadata": {},
   "source": [
    "### 7) Частотность-2 (0.5 балл)\n",
    "Теперь найдите создайте словарь `counts_clean` и найдите 10 самых частотных слов после очистки текста. Ответьте на вопрос, какие слова пропали?"
   ]
  },
  {
   "cell_type": "code",
   "execution_count": 70,
   "metadata": {},
   "outputs": [
    {
     "data": {
      "text/plain": [
       "[('смартфон', 6),\n",
       " ('нагреться', 3),\n",
       " ('кувиковый', 3),\n",
       " ('отметить', 3),\n",
       " ('температура', 3),\n",
       " ('девайс', 3),\n",
       " ('телефон', 2),\n",
       " ('пытаться', 2),\n",
       " ('охладить', 2),\n",
       " ('экстремальный', 2)]"
      ]
     },
     "execution_count": 70,
     "metadata": {},
     "output_type": "execute_result"
    }
   ],
   "source": [
    "counts_clean = {}\n",
    "\n",
    "for word in example_clean.split():\n",
    "    word = word.strip()\n",
    "    counts_clean[word] = counts_clean.get(word, 0) + 1\n",
    "    \n",
    "top_10_clean = sorted(counts_clean.items(), key=lambda x: x[1], reverse=True)[:10]\n",
    "top_10_clean"
   ]
  },
  {
   "cell_type": "markdown",
   "metadata": {},
   "source": [
    "В нашем случае пропали предлоги \"в\" и \"и\", а также местоимение \"это\"."
   ]
  },
  {
   "cell_type": "markdown",
   "metadata": {},
   "source": [
    "### 5) График-2 (бонус, 0.5)\n",
    "Визуализируйте с помощью столбчатой диаграммы 10 самых частотных слов из словаря `counts_clean`. Разверните подписи на шкале x на 90 градусов."
   ]
  },
  {
   "cell_type": "code",
   "execution_count": 71,
   "metadata": {},
   "outputs": [
    {
     "data": {
      "image/png": "[encoded data removed]",
      "text/plain": [
       "<Figure size 432x288 with 1 Axes>"
      ]
     },
     "metadata": {
      "needs_background": "light"
     },
     "output_type": "display_data"
    }
   ],
   "source": [
    "plt.bar([k for k,v in top_10_clean], [v for k,v in top_10_clean])\n",
    "plt.xticks(rotation = 90)\n",
    "plt.show()"
   ]
  },
  {
   "cell_type": "markdown",
   "metadata": {},
   "source": [
    "## 3. Функция очистки текста (1 балл)\n",
    "Определите функцию `clean_text`, которая будет возвращать строку с очищенным текстом:\n",
    "\n",
    "* текст приводится к нижнему регистру\n",
    "* удаляется пунктуация и извлекаются только слова с кириллицей\n",
    "* все слова нормализуются\n",
    "* удаляются стоп-слова\n",
    "\n",
    "Примените вашу функцию к переменно `example`"
   ]
  },
  {
   "cell_type": "code",
   "execution_count": 73,
   "metadata": {},
   "outputs": [
    {
     "data": {
      "text/plain": [
       "'нагреться телефон пытаться охладить помощь холодильник иной экстремальный метод разговор риа новость заявить директор региональный инжиниринговый центр национальный технологический инициатива нти денис кувиковый автор отметить аномально высокий температура наблюдаться многий российский регион риск перегрев смартфон дальнейший возгорание кувиковый перечислить способ позволить защитить гаджет жара очередь нагреться аппарат пытаться быстро охладить шоковый терапия окончательно убить необходимо снять чехол отключить мобильный интернет оставить девайс прохладный способ защита эксперт назвать грамотный профилактика лето смартфон оставлять воздействие прямой солнечный луч рекомендоваться использовать плотный чехол нарушить циркуляция воздух заранее отрегулировать внутренний настройка сократить уровень яркость экран выключить отменить автоматический обновление приложение отметить специалист запускать одновременно количество приложение приводить повышенный нагрев девайс кувиковый посоветовать использовать смартфон температура выше градус современный смартфон планшет выпуск продажа тщательно тестировать эффективность условие экстремальный холод жара устройство функция автоматический выключение высокий уровень температура аккумулятор отметить автор риск возгорание батарея равно присутствовать лето специалист бенчмарка назвать склонный перегрев смартфон среди азиатский бренд холодный аппарат девайс горячий телефон сводный антирейтинг смартфон лидировать корпус нагреться градус'"
      ]
     },
     "execution_count": 73,
     "metadata": {},
     "output_type": "execute_result"
    }
   ],
   "source": [
    "def clean_text(text):\n",
    "    text_cyr = map(str.lower, re.findall('[А-яËё]+', text))\n",
    "    morph = pymorphy2.MorphAnalyzer()\n",
    "    text_morph = map(lambda word: morph.parse(word)[0].normal_form, text_cyr)\n",
    "    ru_stopwords = requests.get('https://raw.githubusercontent.com/stopwords-iso/stopwords-ru/master/stopwords-ru.txt').text.split()\n",
    "    text_clean = [word for word in text_morph if word not in ru_stopwords]\n",
    "    return ' '.join(text_clean)\n",
    "    \n",
    "\n",
    "\n",
    "clean_text(data['text'][0])"
   ]
  },
  {
   "cell_type": "markdown",
   "metadata": {},
   "source": [
    "## 4. Очистка текста (0.5 балла)\n",
    "Создайте в датафрейме колонку `clean_text` и сохраните туда очищенный текст. После окончания работы функции (это может зянять время), выведите первые пять значений новой колонки."
   ]
  },
  {
   "cell_type": "code",
   "execution_count": 117,
   "metadata": {},
   "outputs": [],
   "source": [
    "data['clean_text'] = data['text'].apply(clean_text)"
   ]
  },
  {
   "cell_type": "code",
   "execution_count": 118,
   "metadata": {},
   "outputs": [
    {
     "data": {
      "text/plain": [
       "0    нагреться телефон пытаться охладить помощь хол...\n",
       "1    майский обновление вызвать проблема звук компь...\n",
       "2    учёный калифорнийский университет дэвис обнару...\n",
       "3    британский учёный тим спектор раскрыть связь к...\n",
       "4    международный группа учёный раскрыть загадка с...\n",
       "Name: clean_text, dtype: object"
      ]
     },
     "execution_count": 118,
     "metadata": {},
     "output_type": "execute_result"
    }
   ],
   "source": [
    "data['clean_text'].head()"
   ]
  },
  {
   "cell_type": "markdown",
   "metadata": {},
   "source": [
    "## 5. Построение модели (3 балла)"
   ]
  },
  {
   "cell_type": "markdown",
   "metadata": {},
   "source": [
    "### 1) Разбивка выборки (0.5 балла)\n",
    "Разделите выборку на тренирочную и тестовую (25% выборки)"
   ]
  },
  {
   "cell_type": "code",
   "execution_count": 120,
   "metadata": {},
   "outputs": [],
   "source": [
    "# код здесь\n",
    "X_train, X_test, y_train, y_test = train_test_split(data['clean_text'], data['label'], test_size=0.25)"
   ]
  },
  {
   "cell_type": "markdown",
   "metadata": {},
   "source": [
    "### 2) Векторизация (1 балл) \n",
    "\n",
    "Определите экземпляр класса `CountVectorizer` с ограничением по стоп-словам корпуса (max_df должно быть не более 80%).\n",
    "\n",
    "Обучите и преобразуйте тренировочную выборку в пространство признаков. Преобразуйте тестовую выборку в пространство признаков."
   ]
  },
  {
   "cell_type": "code",
   "execution_count": 93,
   "metadata": {},
   "outputs": [],
   "source": [
    "vect = CountVectorizer(max_df=0.8)\n",
    "\n",
    "train_vect = vect.fit_transform(X_train)\n",
    "test_vect = vect.transform(X_test)"
   ]
  },
  {
   "cell_type": "markdown",
   "metadata": {},
   "source": [
    "### 3) Классификация (1 балл)\n",
    "С помощью классификатора `RandomForest` и обучите модель \"из коробки\". \n",
    "Предскажите значения для тестовой выборки и запишите их в переменную."
   ]
  },
  {
   "cell_type": "code",
   "execution_count": 119,
   "metadata": {},
   "outputs": [],
   "source": [
    "model = RandomForestClassifier()\n",
    "model.fit(train_vect, y_train)\n",
    "y_predict = model.predict(test_vect)"
   ]
  },
  {
   "cell_type": "markdown",
   "metadata": {},
   "source": [
    "### 4) Качество модели (0.5 балла)\n",
    "\n",
    "Найдите долю верных ответов вашего пердсказания. Напишите своими словами, что значит полученный результат."
   ]
  },
  {
   "cell_type": "code",
   "execution_count": 96,
   "metadata": {},
   "outputs": [
    {
     "data": {
      "text/plain": [
       "0.9"
      ]
     },
     "execution_count": 96,
     "metadata": {},
     "output_type": "execute_result"
    }
   ],
   "source": [
    "accuracy_score(y_predict, y_test)"
   ]
  },
  {
   "cell_type": "markdown",
   "metadata": {},
   "source": [
    "Наша модель корректно классифицирует текст в 90% случаев."
   ]
  }
 ],
 "metadata": {
  "kernelspec": {
   "display_name": "Python 3",
   "language": "python",
   "name": "python3"
  },
  "language_info": {
   "codemirror_mode": {
    "name": "ipython",
    "version": 3
   },
   "file_extension": ".py",
   "mimetype": "text/x-python",
   "name": "python",
   "nbconvert_exporter": "python",
   "pygments_lexer": "ipython3",
   "version": "3.8.5"
  }
 },
 "nbformat": 4,
 "nbformat_minor": 4
}
