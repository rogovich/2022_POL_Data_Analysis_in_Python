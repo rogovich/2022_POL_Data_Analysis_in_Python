{
 "cells": [
  {
   "cell_type": "markdown",
   "metadata": {},
   "source": [
    "# Домашнее задание № 4\n",
    "\n",
    "Максимум 11 баллов. Бонусный балл идет в ведомость."
   ]
  },
  {
   "cell_type": "code",
   "execution_count": 76,
   "metadata": {},
   "outputs": [],
   "source": [
    "import pandas as pd\n",
    "from sklearn.model_selection import train_test_split\n",
    "from sklearn.feature_extraction.text import CountVectorizer\n",
    "from sklearn.ensemble import RandomForestClassifier\n",
    "from sklearn.metrics import accuracy_score\n",
    "import pymorphy2\n",
    "import requests\n",
    "import matplotlib.pyplot as plt"
   ]
  },
  {
   "cell_type": "markdown",
   "metadata": {},
   "source": [
    "## 1. Знакомство с данными (1 балл)\n",
    "\n",
    "### 1) Загрузка данных (0.5 балла)\n",
    "\n",
    "Загрузите данные по [ссылке](https://raw.githubusercontent.com/rogovich/Data/master/data/lenta_news.txt) в датафрейм `data` и выведите первые пять строк данных и размерность датафрейма."
   ]
  },
  {
   "cell_type": "code",
   "execution_count": 123,
   "metadata": {},
   "outputs": [],
   "source": [
    "# ваш код здесь"
   ]
  },
  {
   "cell_type": "markdown",
   "metadata": {},
   "source": [
    "### 2) Целевая переменная (0.5 балла)\n",
    "Исследуйте колонку `label`. Сколько и каких уникальных значений она содержит?"
   ]
  },
  {
   "cell_type": "code",
   "execution_count": 124,
   "metadata": {},
   "outputs": [],
   "source": [
    "# ваш код здесь"
   ]
  },
  {
   "cell_type": "markdown",
   "metadata": {},
   "source": [
    "## 3. Очистка текста (4.5 балла + 1 бонусный балл)\n",
    "\n",
    "### 1) Приводим к нижнему регистру (0.5 балла)\n",
    "В задании 3 работаем с переменной `example` и ее производными. В первую очередь нам нужно привести весь текст к нижнему регистру. Сохраните результат в `example_lower`.\n"
   ]
  },
  {
   "cell_type": "code",
   "execution_count": 126,
   "metadata": {},
   "outputs": [],
   "source": [
    "# не будет работать, если вы не загрузили данные выше\n",
    "example = data['text'][0]\n",
    "\n",
    "# ваш код здесь"
   ]
  },
  {
   "cell_type": "markdown",
   "metadata": {},
   "source": [
    "### 2) Удаляем пунктуацию и оставляем кириллицу (0.5 балла)\n",
    "Теперь нам нужно оставить только слова, написанные полностью кириллицей и избавиться от знаков препинания. Импортируйте модуль `re`, и с помощью функции `.findall()` извлеките из `example_lower` только те токены, которые соответсвуют шаблону `'[а-яё]+'`. Сохраните результат (список токенов) в `example_cyr`."
   ]
  },
  {
   "cell_type": "code",
   "execution_count": 127,
   "metadata": {},
   "outputs": [],
   "source": [
    "# ваш код здесь"
   ]
  },
  {
   "cell_type": "markdown",
   "metadata": {},
   "source": [
    "### 3) Нормализуем текст (1 балл)\n",
    "Теперь нам нужно нормализовать текст. Инициализируйте класс `MorphAnalyzer()` из библиотеки `pymorphy2`. Дальше с помощью метода класса `.parse` для каждого слова найдите его нормальную форму. Из списка вероятных словарных форм выбирайте самую вероятную — ту, которая хранится под индексом 0. Сохраните список нормальных форм слов в `example_morph`"
   ]
  },
  {
   "cell_type": "code",
   "execution_count": 128,
   "metadata": {},
   "outputs": [],
   "source": [
    "# ваш код здесь"
   ]
  },
  {
   "cell_type": "markdown",
   "metadata": {},
   "source": [
    "### 4) Частотность-1 (1 балл)\n",
    "Давайте пока посмотрим, какие слова у нас самые частотные. Создайте словарь `count_dirty`, где ключами будут слова из `example_morph`, а значениями — их частотность. Затем с помощью сортировки объекта `DictItems` найдите 10 самых частотных слов."
   ]
  },
  {
   "cell_type": "code",
   "execution_count": 129,
   "metadata": {},
   "outputs": [],
   "source": [
    "# ваш код здесь"
   ]
  },
  {
   "cell_type": "markdown",
   "metadata": {},
   "source": [
    "### 5) График-1 (бонус, 0.5)\n",
    "Визуализируйте с помощью столбчатой диаграммы 10 самых частотных слов из словаря `counts_dirty`. Разверните подписи на шкале x на 90 градусов."
   ]
  },
  {
   "cell_type": "code",
   "execution_count": 130,
   "metadata": {},
   "outputs": [],
   "source": [
    "# ваш код здесь"
   ]
  },
  {
   "cell_type": "markdown",
   "metadata": {},
   "source": [
    "### 6) Удаление стоп-слов (1 балл)\n",
    "А теперь давайте удалим стоп-слова. Загрузите списко стоп-слов `ru_stopwords` по ссылке ниже. Пройдитесь циклом по `example_morph` и добавьте в новый список `example_clean` только те слова, которые не являются стоп-словами."
   ]
  },
  {
   "cell_type": "code",
   "execution_count": 142,
   "metadata": {},
   "outputs": [],
   "source": [
    "import requests\n",
    "ru_stopwords = requests.get('https://raw.githubusercontent.com/stopwords-iso/stopwords-ru/master/stopwords-ru.txt').text\n",
    "# ваш код здесь"
   ]
  },
  {
   "cell_type": "markdown",
   "metadata": {},
   "source": [
    "### 7) Частотность-2 (0.5 балл)\n",
    "Теперь найдите создайте словарь `counts_clean` и найдите 10 самых частотных слов после очистки текста. Ответьте на вопрос, какие слова пропали?"
   ]
  },
  {
   "cell_type": "code",
   "execution_count": 133,
   "metadata": {},
   "outputs": [],
   "source": [
    "# ваш код здесь"
   ]
  },
  {
   "cell_type": "markdown",
   "metadata": {},
   "source": [
    "### 5) График-2 (бонус, 0.5)\n",
    "Визуализируйте с помощью столбчатой диаграммы 10 самых частотных слов из словаря `counts_сlean`. Разверните подписи на шкале x на 90 градусов."
   ]
  },
  {
   "cell_type": "code",
   "execution_count": 134,
   "metadata": {},
   "outputs": [],
   "source": [
    "# ваш код здесь"
   ]
  },
  {
   "cell_type": "markdown",
   "metadata": {},
   "source": [
    "## 3. Функция очистки текста (1 балл)\n",
    "Определите функцию `clean_text`, которая будет возвращать строку с очищенным текстом:\n",
    "\n",
    "* текст приводится к нижнему регистру\n",
    "* удаляется пунктуация и извлекаются только слова с кириллицей\n",
    "* все слова нормализуются\n",
    "* удаляются стоп-слова\n",
    "\n",
    "Примените вашу функцию к переменно `example`"
   ]
  },
  {
   "cell_type": "code",
   "execution_count": 135,
   "metadata": {},
   "outputs": [],
   "source": [
    "# ваш код здесь"
   ]
  },
  {
   "cell_type": "markdown",
   "metadata": {},
   "source": [
    "## 4. Очистка текста (0.5 балла)\n",
    "Создайте в датафрейме колонку `clean_text` и сохраните туда очищенный текст. После окончания работы функции (это может зянять время), выведите первые пять значений новой колонки."
   ]
  },
  {
   "cell_type": "code",
   "execution_count": 137,
   "metadata": {},
   "outputs": [],
   "source": [
    "# ваш код здесь"
   ]
  },
  {
   "cell_type": "markdown",
   "metadata": {},
   "source": [
    "## 5. Построение модели (3 балла)"
   ]
  },
  {
   "cell_type": "markdown",
   "metadata": {},
   "source": [
    "### 1) Разбивка выборки (0.5 балла)\n",
    "Разделите выборку на тренирочную и тестовую (25% выборки)"
   ]
  },
  {
   "cell_type": "code",
   "execution_count": 138,
   "metadata": {},
   "outputs": [],
   "source": [
    "# ваш код здесь"
   ]
  },
  {
   "cell_type": "markdown",
   "metadata": {},
   "source": [
    "### 2) Векторизация (1 балл) \n",
    "\n",
    "Определите экземпляр класса `CountVectorizer` с ограничением по стоп-словам корпуса (max_df должно быть не более 80%).\n",
    "\n",
    "Обучите и преобразуйте тренировочную выборку в пространство признаков. Преобразуйте тестовую выборку в пространство признаков."
   ]
  },
  {
   "cell_type": "code",
   "execution_count": 139,
   "metadata": {},
   "outputs": [],
   "source": [
    "# ваш код здесь"
   ]
  },
  {
   "cell_type": "markdown",
   "metadata": {},
   "source": [
    "### 3) Классификация (1 балл)\n",
    "С помощью классификатора `RandomForest` и обучите модель \"из коробки\". \n",
    "Предскажите значения для тестовой выборки и запишите их в переменную."
   ]
  },
  {
   "cell_type": "code",
   "execution_count": 140,
   "metadata": {},
   "outputs": [],
   "source": [
    "# ваш код здесь"
   ]
  },
  {
   "cell_type": "markdown",
   "metadata": {},
   "source": [
    "### 4) Качество модели (0.5 балла)\n",
    "\n",
    "Найдите долю верных ответов вашего пердсказания. Напишите своими словами, что значит полученный результат."
   ]
  },
  {
   "cell_type": "code",
   "execution_count": 141,
   "metadata": {},
   "outputs": [],
   "source": [
    "# ваш код здесь"
   ]
  }
 ],
 "metadata": {
  "kernelspec": {
   "display_name": "Python 3",
   "language": "python",
   "name": "python3"
  },
  "language_info": {
   "codemirror_mode": {
    "name": "ipython",
    "version": 3
   },
   "file_extension": ".py",
   "mimetype": "text/x-python",
   "name": "python",
   "nbconvert_exporter": "python",
   "pygments_lexer": "ipython3",
   "version": "3.8.5"
  }
 },
 "nbformat": 4,
 "nbformat_minor": 4
}
