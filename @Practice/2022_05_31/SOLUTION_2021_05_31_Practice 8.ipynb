{
 "cells": [
  {
   "cell_type": "markdown",
   "metadata": {},
   "source": [
    "# Самостоятельная работа 8\n",
    "\n",
    "Будем реализовывать функции разных метрик ошибки и проверьте ваши функции на векторах `answers` и `prediction` из примеров.\n",
    "\n",
    "Всего 11 баллов: максимум в ведомость 10.\n",
    "Каждая функция 2.5 балла.\n",
    "Чтобы проверить себя, посчитайте каждую метрику с помощью соответствующей функции из библиотеки `sklearn.metrics` (каждая правильно посчитанная метрика — 0.25 балла)\n",
    "\n",
    "\n",
    "![](https://static.packt-cdn.com/products/9781838555078/graphics/C13314_06_05.jpg)"
   ]
  },
  {
   "cell_type": "code",
   "execution_count": 40,
   "metadata": {},
   "outputs": [],
   "source": [
    "from sklearn.metrics import accuracy_score\n",
    "from sklearn.metrics import precision_score\n",
    "from sklearn.metrics import recall_score\n",
    "from sklearn.metrics import f1_score"
   ]
  },
  {
   "cell_type": "code",
   "execution_count": 41,
   "metadata": {},
   "outputs": [],
   "source": [
    "answers = [0, 0, 1, 1, 1, 0, 1, 1, 1, 0, 1]\n",
    "prediction =  [0, 1, 0, 1, 1, 1, 1, 1, 1, 0, 1]"
   ]
  },
  {
   "cell_type": "markdown",
   "metadata": {},
   "source": [
    "### 1. Доля верных предсказаний\n",
    "\n",
    "$$ accuracy = \\frac{TN + TP}{TN + FP + FN + TP} $$"
   ]
  },
  {
   "cell_type": "code",
   "execution_count": 42,
   "metadata": {},
   "outputs": [
    {
     "data": {
      "text/plain": [
       "0.7272727272727273"
      ]
     },
     "execution_count": 42,
     "metadata": {},
     "output_type": "execute_result"
    }
   ],
   "source": [
    "def accuracy(answers, prediction):\n",
    "    cnt  = 0\n",
    "    for a,p in zip(answers, prediction):\n",
    "        if a == p:\n",
    "            cnt += 1\n",
    "    return (cnt / len(answers))\n",
    "\n",
    "accuracy(answers, prediction)"
   ]
  },
  {
   "cell_type": "code",
   "execution_count": 43,
   "metadata": {},
   "outputs": [
    {
     "data": {
      "text/plain": [
       "0.7272727272727273"
      ]
     },
     "execution_count": 43,
     "metadata": {},
     "output_type": "execute_result"
    }
   ],
   "source": [
    "accuracy_score(answers, prediction)"
   ]
  },
  {
   "cell_type": "markdown",
   "metadata": {},
   "source": [
    "### 2. Точность (Precision)\n",
    "\n",
    "$$ precision = \\frac{TP}{TP + FP} $$"
   ]
  },
  {
   "cell_type": "code",
   "execution_count": 44,
   "metadata": {},
   "outputs": [
    {
     "data": {
      "text/plain": [
       "0.75"
      ]
     },
     "execution_count": 44,
     "metadata": {},
     "output_type": "execute_result"
    }
   ],
   "source": [
    "def precision(answers, prediction):\n",
    "    tp = 0\n",
    "    fp = 0 \n",
    "    for a,p in zip(answers, prediction):\n",
    "\n",
    "        if p == 1 and a == 1:\n",
    "            tp += 1\n",
    "        elif p == 1 and a == 0:\n",
    "            fp += 1\n",
    "    return tp / (tp + fp)\n",
    "    \n",
    "precision(answers, prediction)"
   ]
  },
  {
   "cell_type": "code",
   "execution_count": 45,
   "metadata": {},
   "outputs": [
    {
     "data": {
      "text/plain": [
       "0.75"
      ]
     },
     "execution_count": 45,
     "metadata": {},
     "output_type": "execute_result"
    }
   ],
   "source": [
    "precision_score(answers, prediction)"
   ]
  },
  {
   "cell_type": "markdown",
   "metadata": {},
   "source": [
    "### 3. Полнота (Recall)\n",
    "\n",
    "$$ recall = \\frac{TP}{TP + FN} $$"
   ]
  },
  {
   "cell_type": "code",
   "execution_count": 46,
   "metadata": {},
   "outputs": [
    {
     "data": {
      "text/plain": [
       "0.8571428571428571"
      ]
     },
     "execution_count": 46,
     "metadata": {},
     "output_type": "execute_result"
    }
   ],
   "source": [
    "def recall(answers, prediction):\n",
    "    tp = 0\n",
    "    fn = 0 \n",
    "    for a,p in zip(answers, prediction):\n",
    "\n",
    "        if p == 1 and a == 1:\n",
    "            tp += 1\n",
    "        elif a == 1 and p == 0:\n",
    "            fn += 1\n",
    "    return tp / (tp + fn)\n",
    "    \n",
    "recall(answers, prediction)"
   ]
  },
  {
   "cell_type": "code",
   "execution_count": 47,
   "metadata": {},
   "outputs": [
    {
     "data": {
      "text/plain": [
       "0.8571428571428571"
      ]
     },
     "execution_count": 47,
     "metadata": {},
     "output_type": "execute_result"
    }
   ],
   "source": [
    "recall_score(answers, prediction)"
   ]
  },
  {
   "cell_type": "markdown",
   "metadata": {},
   "source": [
    "### 4. F1-мера\n",
    "\n",
    "$$ f1 = \\frac{2TP}{2TP + FP + FN} $$\n",
    "\n",
    "$$ f1 = \\frac{2 * Recall * Precision}{Precision + Recall} $$\n"
   ]
  },
  {
   "cell_type": "code",
   "execution_count": 48,
   "metadata": {},
   "outputs": [
    {
     "data": {
      "text/plain": [
       "0.7999999999999999"
      ]
     },
     "execution_count": 48,
     "metadata": {},
     "output_type": "execute_result"
    }
   ],
   "source": [
    "def f1(answers, prediction):\n",
    "    r = recall(answers, prediction)\n",
    "    p = precision(answers, prediction)\n",
    "    return (2 * r * p) / (r + p)\n",
    "\n",
    "f1(answers, prediction)    "
   ]
  },
  {
   "cell_type": "code",
   "execution_count": 49,
   "metadata": {},
   "outputs": [
    {
     "data": {
      "text/plain": [
       "0.7999999999999999"
      ]
     },
     "execution_count": 49,
     "metadata": {},
     "output_type": "execute_result"
    }
   ],
   "source": [
    "f1_score(answers,prediction)"
   ]
  }
 ],
 "metadata": {
  "kernelspec": {
   "display_name": "Python 3",
   "language": "python",
   "name": "python3"
  },
  "language_info": {
   "codemirror_mode": {
    "name": "ipython",
    "version": 3
   },
   "file_extension": ".py",
   "mimetype": "text/x-python",
   "name": "python",
   "nbconvert_exporter": "python",
   "pygments_lexer": "ipython3",
   "version": "3.8.5"
  }
 },
 "nbformat": 4,
 "nbformat_minor": 4
}
