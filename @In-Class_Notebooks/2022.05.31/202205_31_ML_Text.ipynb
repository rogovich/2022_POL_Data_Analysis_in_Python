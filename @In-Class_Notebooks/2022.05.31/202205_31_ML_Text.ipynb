{
 "cells": [
  {
   "cell_type": "code",
   "execution_count": 3,
   "metadata": {},
   "outputs": [],
   "source": [
    "import pandas as pd\n",
    "\n",
    "\n",
    "home_data = pd.read_csv('https://raw.githubusercontent.com/rogovich/Data/master/data/house_data.csv')\n",
    "feature_columns = ['OverallQual', 'GrLivArea', 'GarageArea', 'TotalBsmtSF', 'FullBath', 'YearBuilt', 'YearRemodAdd']"
   ]
  },
  {
   "cell_type": "code",
   "execution_count": 9,
   "metadata": {},
   "outputs": [],
   "source": [
    "X = home_data[feature_columns]\n",
    "y = home_data['SalePrice']"
   ]
  },
  {
   "cell_type": "code",
   "execution_count": 12,
   "metadata": {},
   "outputs": [],
   "source": [
    "from sklearn.model_selection import train_test_split"
   ]
  },
  {
   "cell_type": "code",
   "execution_count": 32,
   "metadata": {},
   "outputs": [],
   "source": [
    "X_train, X_test, y_train, y_test = train_test_split(X, y, test_size=0.25, random_state=42) # randomisation seed"
   ]
  },
  {
   "cell_type": "code",
   "execution_count": 40,
   "metadata": {},
   "outputs": [
    {
     "name": "stdout",
     "output_type": "stream",
     "text": [
      "(1095, 7)\n",
      "(365, 7)\n",
      "(1095,)\n",
      "(365,)\n"
     ]
    }
   ],
   "source": [
    "for item in (X_train, X_test, y_train, y_test):\n",
    "    print(item.shape)"
   ]
  },
  {
   "cell_type": "code",
   "execution_count": 41,
   "metadata": {},
   "outputs": [
    {
     "data": {
      "text/plain": [
       "{'ccp_alpha': 0.0,\n",
       " 'criterion': 'mse',\n",
       " 'max_depth': None,\n",
       " 'max_features': None,\n",
       " 'max_leaf_nodes': None,\n",
       " 'min_impurity_decrease': 0.0,\n",
       " 'min_impurity_split': None,\n",
       " 'min_samples_leaf': 1,\n",
       " 'min_samples_split': 2,\n",
       " 'min_weight_fraction_leaf': 0.0,\n",
       " 'presort': 'deprecated',\n",
       " 'random_state': 42,\n",
       " 'splitter': 'best'}"
      ]
     },
     "execution_count": 41,
     "metadata": {},
     "output_type": "execute_result"
    }
   ],
   "source": [
    "from sklearn.tree import DecisionTreeRegressor\n",
    "\n",
    "model = DecisionTreeRegressor(random_state=42)\n",
    "model.get_params()"
   ]
  },
  {
   "cell_type": "code",
   "execution_count": 42,
   "metadata": {},
   "outputs": [
    {
     "data": {
      "text/plain": [
       "DecisionTreeRegressor(random_state=42)"
      ]
     },
     "execution_count": 42,
     "metadata": {},
     "output_type": "execute_result"
    }
   ],
   "source": [
    "model.fit(X_train, y_train)"
   ]
  },
  {
   "cell_type": "code",
   "execution_count": 43,
   "metadata": {},
   "outputs": [],
   "source": [
    "train_predict = model.predict(X_train)\n",
    "test_predict = model.predict(X_test)"
   ]
  },
  {
   "cell_type": "code",
   "execution_count": 44,
   "metadata": {},
   "outputs": [],
   "source": [
    "from sklearn.metrics import mean_absolute_error"
   ]
  },
  {
   "cell_type": "code",
   "execution_count": 45,
   "metadata": {},
   "outputs": [
    {
     "name": "stdout",
     "output_type": "stream",
     "text": [
      "Ошибка на тренировочной выборке\n",
      "88.96286149162863\n"
     ]
    }
   ],
   "source": [
    "print('Ошибка на тренировочной выборке')\n",
    "print(mean_absolute_error(train_predict, y_train))"
   ]
  },
  {
   "cell_type": "code",
   "execution_count": 46,
   "metadata": {},
   "outputs": [
    {
     "name": "stdout",
     "output_type": "stream",
     "text": [
      "Ошибка на тренировочной выборке\n",
      "26121.36712328767\n"
     ]
    }
   ],
   "source": [
    "print('Ошибка на тестовой выборке')\n",
    "print(mean_absolute_error(test_predict, y_test))"
   ]
  },
  {
   "cell_type": "code",
   "execution_count": 20,
   "metadata": {},
   "outputs": [
    {
     "data": {
      "text/plain": [
       "180921.19589041095"
      ]
     },
     "execution_count": 20,
     "metadata": {},
     "output_type": "execute_result"
    }
   ],
   "source": [
    "y.mean()"
   ]
  },
  {
   "cell_type": "code",
   "execution_count": 47,
   "metadata": {},
   "outputs": [
    {
     "data": {
      "text/plain": [
       "{'ccp_alpha': 0.0,\n",
       " 'criterion': 'mse',\n",
       " 'max_depth': 5,\n",
       " 'max_features': None,\n",
       " 'max_leaf_nodes': 15,\n",
       " 'min_impurity_decrease': 0.0,\n",
       " 'min_impurity_split': None,\n",
       " 'min_samples_leaf': 1,\n",
       " 'min_samples_split': 2,\n",
       " 'min_weight_fraction_leaf': 0.0,\n",
       " 'presort': 'deprecated',\n",
       " 'random_state': 42,\n",
       " 'splitter': 'best'}"
      ]
     },
     "execution_count": 47,
     "metadata": {},
     "output_type": "execute_result"
    }
   ],
   "source": [
    "model = DecisionTreeRegressor(max_depth=5, max_leaf_nodes=15, random_state=42)\n",
    "model.get_params()"
   ]
  },
  {
   "cell_type": "code",
   "execution_count": 49,
   "metadata": {},
   "outputs": [],
   "source": [
    "model.fit(X_train, y_train)\n",
    "train_predict = model.predict(X_train)\n",
    "test_predict = model.predict(X_test)"
   ]
  },
  {
   "cell_type": "code",
   "execution_count": 50,
   "metadata": {},
   "outputs": [
    {
     "name": "stdout",
     "output_type": "stream",
     "text": [
      "Ошибка на тренировочной выборке\n",
      "25820.49019371254\n"
     ]
    }
   ],
   "source": [
    "print('Ошибка на тренировочной выборке')\n",
    "print(mean_absolute_error(train_predict, y_train))"
   ]
  },
  {
   "cell_type": "code",
   "execution_count": 51,
   "metadata": {},
   "outputs": [
    {
     "name": "stdout",
     "output_type": "stream",
     "text": [
      "Ошибка на тестовой выборке\n",
      "27645.527309672878\n"
     ]
    }
   ],
   "source": [
    "print('Ошибка на тестовой выборке')\n",
    "print(mean_absolute_error(test_predict, y_test))"
   ]
  },
  {
   "cell_type": "code",
   "execution_count": 52,
   "metadata": {},
   "outputs": [
    {
     "data": {
      "text/plain": [
       "{'bootstrap': True,\n",
       " 'ccp_alpha': 0.0,\n",
       " 'criterion': 'mse',\n",
       " 'max_depth': None,\n",
       " 'max_features': 'auto',\n",
       " 'max_leaf_nodes': None,\n",
       " 'max_samples': None,\n",
       " 'min_impurity_decrease': 0.0,\n",
       " 'min_impurity_split': None,\n",
       " 'min_samples_leaf': 1,\n",
       " 'min_samples_split': 2,\n",
       " 'min_weight_fraction_leaf': 0.0,\n",
       " 'n_estimators': 100,\n",
       " 'n_jobs': None,\n",
       " 'oob_score': False,\n",
       " 'random_state': None,\n",
       " 'verbose': 0,\n",
       " 'warm_start': False}"
      ]
     },
     "execution_count": 52,
     "metadata": {},
     "output_type": "execute_result"
    }
   ],
   "source": [
    "from sklearn.ensemble import RandomForestRegressor\n",
    "\n",
    "forest = RandomForestRegressor()\n",
    "forest.get_params()"
   ]
  },
  {
   "cell_type": "code",
   "execution_count": 88,
   "metadata": {},
   "outputs": [
    {
     "name": "stdout",
     "output_type": "stream",
     "text": [
      "Ошибка на тестовой выборке\n",
      "25423.068258073203\n"
     ]
    }
   ],
   "source": [
    "forest.fit(X_train, y_train)\n",
    "train_predict = forest.predict(X_train)\n",
    "test_predict = forest.predict(X_test)\n",
    "\n",
    "print('Ошибка на тестовой выборке')\n",
    "print(mean_absolute_error(test_predict, y_test))"
   ]
  },
  {
   "cell_type": "code",
   "execution_count": 59,
   "metadata": {},
   "outputs": [],
   "source": [
    "# сравниваем значения ошибок для случайного леса, перебирая количество деревьев\n",
    "errors_train = []\n",
    "errors_test = []\n",
    "\n",
    "\n",
    "for n_estimators in range(1, 100):\n",
    "    forest = RandomForestRegressor(n_estimators=n_estimators)\n",
    "    forest.fit(X_train, y_train)\n",
    "    train_predict = forest.predict(X_train)\n",
    "    test_predict = forest.predict(X_test)\n",
    "    errors_train.append(mean_absolute_error(train_predict, y_train))\n",
    "    errors_test.append(mean_absolute_error(test_predict, y_test))"
   ]
  },
  {
   "cell_type": "code",
   "execution_count": 63,
   "metadata": {},
   "outputs": [
    {
     "data": {
      "text/plain": [
       "[<matplotlib.lines.Line2D at 0x7fa191521820>]"
      ]
     },
     "execution_count": 63,
     "metadata": {},
     "output_type": "execute_result"
    },
    {
     "data": {
      "image/png": "[encoded data removed]",
      "text/plain": [
       "<Figure size 432x288 with 1 Axes>"
      ]
     },
     "metadata": {
      "needs_background": "light"
     },
     "output_type": "display_data"
    }
   ],
   "source": [
    "import matplotlib.pyplot as plt\n",
    "plt.plot(range(1, 100), errors_train)\n",
    "plt.plot(range(1, 100), errors_test)"
   ]
  },
  {
   "cell_type": "code",
   "execution_count": 72,
   "metadata": {},
   "outputs": [
    {
     "data": {
      "text/plain": [
       "[<matplotlib.lines.Line2D at 0x7fa1f0c7e370>]"
      ]
     },
     "execution_count": 72,
     "metadata": {},
     "output_type": "execute_result"
    },
    {
     "data": {
      "image/png": "[encoded data removed]",
      "text/plain": [
       "<Figure size 432x288 with 1 Axes>"
      ]
     },
     "metadata": {
      "needs_background": "light"
     },
     "output_type": "display_data"
    }
   ],
   "source": [
    "# сравниваем значения ошибок для дерева, перебирая количество листовых вершин\n",
    "\n",
    "errors_train = []\n",
    "errors_test = []\n",
    "\n",
    "\n",
    "for nodes in range(2, 300):\n",
    "    forest = DecisionTreeRegressor(max_leaf_nodes=nodes)\n",
    "    forest.fit(X_train, y_train)\n",
    "    train_predict = forest.predict(X_train)\n",
    "    test_predict = forest.predict(X_test)\n",
    "    errors_train.append(mean_absolute_error(train_predict, y_train))\n",
    "    errors_test.append(mean_absolute_error(test_predict, y_test))\n",
    "    \n",
    "plt.plot(range(2, 300), errors_train)\n",
    "plt.plot(range(2, 300), errors_test)"
   ]
  },
  {
   "cell_type": "code",
   "execution_count": 82,
   "metadata": {},
   "outputs": [
    {
     "data": {
      "text/plain": [
       "{'mean_fit_time': array([0.02053328, 0.03171263, 0.06027241, 0.03588972, 0.07723908,\n",
       "        0.15971632, 0.03738232, 0.09005523, 0.18296118]),\n",
       " 'std_fit_time': array([0.00977027, 0.00039656, 0.00043733, 0.00239002, 0.00152933,\n",
       "        0.00879487, 0.00076436, 0.00179173, 0.00555609]),\n",
       " 'mean_score_time': array([0.00473022, 0.00292664, 0.00417705, 0.00288324, 0.00362639,\n",
       "        0.0056982 , 0.00264268, 0.00376077, 0.00647726]),\n",
       " 'std_score_time': array([3.41761328e-03, 2.77162598e-05, 1.54373583e-04, 4.97800303e-04,\n",
       "        9.35335746e-05, 2.77374212e-04, 1.61995233e-04, 1.64915357e-05,\n",
       "        2.75960400e-04]),\n",
       " 'param_max_depth': masked_array(data=[1, 1, 1, 10, 10, 10, 20, 20, 20],\n",
       "              mask=[False, False, False, False, False, False, False, False,\n",
       "                    False],\n",
       "        fill_value='?',\n",
       "             dtype=object),\n",
       " 'param_n_estimators': masked_array(data=[10, 25, 50, 10, 25, 50, 10, 25, 50],\n",
       "              mask=[False, False, False, False, False, False, False, False,\n",
       "                    False],\n",
       "        fill_value='?',\n",
       "             dtype=object),\n",
       " 'params': [{'max_depth': 1, 'n_estimators': 10},\n",
       "  {'max_depth': 1, 'n_estimators': 25},\n",
       "  {'max_depth': 1, 'n_estimators': 50},\n",
       "  {'max_depth': 10, 'n_estimators': 10},\n",
       "  {'max_depth': 10, 'n_estimators': 25},\n",
       "  {'max_depth': 10, 'n_estimators': 50},\n",
       "  {'max_depth': 20, 'n_estimators': 10},\n",
       "  {'max_depth': 20, 'n_estimators': 25},\n",
       "  {'max_depth': 20, 'n_estimators': 50}],\n",
       " 'split0_test_score': array([0.53203501, 0.5353233 , 0.53497676, 0.85316842, 0.85211324,\n",
       "        0.85583769, 0.82404829, 0.85919298, 0.83872305]),\n",
       " 'split1_test_score': array([0.50273479, 0.38657435, 0.43652345, 0.26479724, 0.34825647,\n",
       "        0.28345618, 0.3234991 , 0.29576994, 0.304192  ]),\n",
       " 'split2_test_score': array([0.48690356, 0.49199675, 0.4716967 , 0.85289933, 0.85921302,\n",
       "        0.85175549, 0.84742853, 0.85900889, 0.86426798]),\n",
       " 'split3_test_score': array([0.4948766 , 0.45606668, 0.45515331, 0.80760941, 0.84213344,\n",
       "        0.8372163 , 0.80452159, 0.83199773, 0.81722744]),\n",
       " 'split4_test_score': array([0.5140806 , 0.52260126, 0.55487735, 0.86244793, 0.85976784,\n",
       "        0.85591649, 0.84396607, 0.84818859, 0.85682437]),\n",
       " 'mean_test_score': array([0.50612611, 0.47851247, 0.49064551, 0.72818447, 0.7522968 ,\n",
       "        0.73683643, 0.72869272, 0.73883163, 0.73624697]),\n",
       " 'std_test_score': array([0.01576137, 0.05349682, 0.04612795, 0.23248118, 0.20212057,\n",
       "        0.22679397, 0.20318008, 0.22175299, 0.21663747]),\n",
       " 'rank_test_score': array([7, 9, 8, 6, 1, 3, 5, 2, 4], dtype=int32)}"
      ]
     },
     "execution_count": 82,
     "metadata": {},
     "output_type": "execute_result"
    }
   ],
   "source": [
    "from sklearn.model_selection import GridSearchCV\n",
    "search_model = GridSearchCV(RandomForestRegressor(), {\"n_estimators\":[10, 25, 50], \"max_depth\":[1, 10, 20]})\n",
    "search_model.fit(X_train, y_train)\n",
    "search_model.cv_results_"
   ]
  },
  {
   "cell_type": "code",
   "execution_count": 84,
   "metadata": {},
   "outputs": [
    {
     "data": {
      "text/plain": [
       "array([0.00473022, 0.00292664, 0.00417705, 0.00288324, 0.00362639,\n",
       "       0.0056982 , 0.00264268, 0.00376077, 0.00647726])"
      ]
     },
     "execution_count": 84,
     "metadata": {},
     "output_type": "execute_result"
    }
   ],
   "source": [
    "search_model.cv_results_['mean_score_time']"
   ]
  },
  {
   "cell_type": "code",
   "execution_count": 86,
   "metadata": {},
   "outputs": [
    {
     "data": {
      "text/plain": [
       "RandomForestRegressor(max_depth=10, n_estimators=25)"
      ]
     },
     "execution_count": 86,
     "metadata": {},
     "output_type": "execute_result"
    }
   ],
   "source": [
    "search_model.best_estimator_"
   ]
  },
  {
   "cell_type": "code",
   "execution_count": null,
   "metadata": {},
   "outputs": [],
   "source": [
    "best_model = RandomForestRegressor(max_depth=10, n_estimators=25)\n",
    "best_model.fit(X_train, y_train)\n",
    "test_pred = best_model.predict(X_test)\n",
    "print(mean_absolute_error(test_pred, y_test))"
   ]
  },
  {
   "cell_type": "markdown",
   "metadata": {},
   "source": [
    "# Работа с текстом"
   ]
  },
  {
   "cell_type": "code",
   "execution_count": 89,
   "metadata": {},
   "outputs": [
    {
     "data": {
      "text/plain": [
       "{'analyzer': 'word',\n",
       " 'binary': False,\n",
       " 'decode_error': 'strict',\n",
       " 'dtype': numpy.int64,\n",
       " 'encoding': 'utf-8',\n",
       " 'input': 'content',\n",
       " 'lowercase': True,\n",
       " 'max_df': 1.0,\n",
       " 'max_features': None,\n",
       " 'min_df': 1,\n",
       " 'ngram_range': (1, 1),\n",
       " 'preprocessor': None,\n",
       " 'stop_words': None,\n",
       " 'strip_accents': None,\n",
       " 'token_pattern': '(?u)\\\\b\\\\w\\\\w+\\\\b',\n",
       " 'tokenizer': None,\n",
       " 'vocabulary': None}"
      ]
     },
     "execution_count": 89,
     "metadata": {},
     "output_type": "execute_result"
    }
   ],
   "source": [
    "simple_train = ['call you tonight', 'Call me a cab', 'call 222-22-22', 'please call me.. please']\n",
    "# word2vec\n",
    "\n",
    "from sklearn.feature_extraction.text import CountVectorizer\n",
    "vect = CountVectorizer()\n",
    "vect.get_params()"
   ]
  },
  {
   "cell_type": "code",
   "execution_count": 90,
   "metadata": {},
   "outputs": [
    {
     "data": {
      "text/plain": [
       "CountVectorizer()"
      ]
     },
     "execution_count": 90,
     "metadata": {},
     "output_type": "execute_result"
    }
   ],
   "source": [
    "vect.fit(simple_train)"
   ]
  },
  {
   "cell_type": "code",
   "execution_count": 91,
   "metadata": {},
   "outputs": [
    {
     "data": {
      "text/plain": [
       "['22', '222', 'cab', 'call', 'me', 'please', 'tonight', 'you']"
      ]
     },
     "execution_count": 91,
     "metadata": {},
     "output_type": "execute_result"
    }
   ],
   "source": [
    "simple_train = ['call you tonight', 'Call me a cab', 'call 222-22-22', 'please call me.. please']\n",
    "\n",
    "vect.get_feature_names()"
   ]
  },
  {
   "cell_type": "code",
   "execution_count": 96,
   "metadata": {},
   "outputs": [
    {
     "name": "stdout",
     "output_type": "stream",
     "text": [
      "  (0, 3)\t1\n",
      "  (0, 6)\t1\n",
      "  (0, 7)\t1\n",
      "  (1, 2)\t1\n",
      "  (1, 3)\t1\n",
      "  (1, 4)\t1\n",
      "  (2, 0)\t2\n",
      "  (2, 1)\t1\n",
      "  (2, 3)\t1\n",
      "  (3, 3)\t1\n",
      "  (3, 4)\t1\n",
      "  (3, 5)\t2\n"
     ]
    }
   ],
   "source": [
    "simple_train_matrix = vect.transform(simple_train)\n",
    "print(simple_train_matrix)"
   ]
  },
  {
   "cell_type": "code",
   "execution_count": 94,
   "metadata": {},
   "outputs": [
    {
     "data": {
      "text/plain": [
       "array([[0, 0, 0, 1, 0, 0, 1, 1],\n",
       "       [0, 0, 1, 1, 1, 0, 0, 0],\n",
       "       [2, 1, 0, 1, 0, 0, 0, 0],\n",
       "       [0, 0, 0, 1, 1, 2, 0, 0]])"
      ]
     },
     "execution_count": 94,
     "metadata": {},
     "output_type": "execute_result"
    }
   ],
   "source": [
    "simple_train_matrix.toarray()"
   ]
  },
  {
   "cell_type": "code",
   "execution_count": 95,
   "metadata": {},
   "outputs": [
    {
     "data": {
      "text/html": [
       "<div>\n",
       "<style scoped>\n",
       "    .dataframe tbody tr th:only-of-type {\n",
       "        vertical-align: middle;\n",
       "    }\n",
       "\n",
       "    .dataframe tbody tr th {\n",
       "        vertical-align: top;\n",
       "    }\n",
       "\n",
       "    .dataframe thead th {\n",
       "        text-align: right;\n",
       "    }\n",
       "</style>\n",
       "<table border=\"1\" class=\"dataframe\">\n",
       "  <thead>\n",
       "    <tr style=\"text-align: right;\">\n",
       "      <th></th>\n",
       "      <th>22</th>\n",
       "      <th>222</th>\n",
       "      <th>cab</th>\n",
       "      <th>call</th>\n",
       "      <th>me</th>\n",
       "      <th>please</th>\n",
       "      <th>tonight</th>\n",
       "      <th>you</th>\n",
       "    </tr>\n",
       "  </thead>\n",
       "  <tbody>\n",
       "    <tr>\n",
       "      <th>call you tonight</th>\n",
       "      <td>0</td>\n",
       "      <td>0</td>\n",
       "      <td>0</td>\n",
       "      <td>1</td>\n",
       "      <td>0</td>\n",
       "      <td>0</td>\n",
       "      <td>1</td>\n",
       "      <td>1</td>\n",
       "    </tr>\n",
       "    <tr>\n",
       "      <th>Call me a cab</th>\n",
       "      <td>0</td>\n",
       "      <td>0</td>\n",
       "      <td>1</td>\n",
       "      <td>1</td>\n",
       "      <td>1</td>\n",
       "      <td>0</td>\n",
       "      <td>0</td>\n",
       "      <td>0</td>\n",
       "    </tr>\n",
       "    <tr>\n",
       "      <th>call 222-22-22</th>\n",
       "      <td>2</td>\n",
       "      <td>1</td>\n",
       "      <td>0</td>\n",
       "      <td>1</td>\n",
       "      <td>0</td>\n",
       "      <td>0</td>\n",
       "      <td>0</td>\n",
       "      <td>0</td>\n",
       "    </tr>\n",
       "    <tr>\n",
       "      <th>please call me.. please</th>\n",
       "      <td>0</td>\n",
       "      <td>0</td>\n",
       "      <td>0</td>\n",
       "      <td>1</td>\n",
       "      <td>1</td>\n",
       "      <td>2</td>\n",
       "      <td>0</td>\n",
       "      <td>0</td>\n",
       "    </tr>\n",
       "  </tbody>\n",
       "</table>\n",
       "</div>"
      ],
      "text/plain": [
       "                         22  222  cab  call  me  please  tonight  you\n",
       "call you tonight          0    0    0     1   0       0        1    1\n",
       "Call me a cab             0    0    1     1   1       0        0    0\n",
       "call 222-22-22            2    1    0     1   0       0        0    0\n",
       "please call me.. please   0    0    0     1   1       2        0    0"
      ]
     },
     "execution_count": 95,
     "metadata": {},
     "output_type": "execute_result"
    }
   ],
   "source": [
    "pd.DataFrame(simple_train_matrix.toarray(), columns=vect.get_feature_names(), index=simple_train)"
   ]
  },
  {
   "cell_type": "code",
   "execution_count": 97,
   "metadata": {},
   "outputs": [
    {
     "data": {
      "text/plain": [
       "array([[0, 0, 0, 1, 1, 1, 0, 0]])"
      ]
     },
     "execution_count": 97,
     "metadata": {},
     "output_type": "execute_result"
    }
   ],
   "source": [
    "simple_test = ['Please don\\'t call me, I will be busy']\n",
    "simple_test_matrix = vect.transform(simple_test)\n",
    "simple_test_matrix.toarray()"
   ]
  },
  {
   "cell_type": "code",
   "execution_count": 98,
   "metadata": {},
   "outputs": [
    {
     "data": {
      "text/html": [
       "<div>\n",
       "<style scoped>\n",
       "    .dataframe tbody tr th:only-of-type {\n",
       "        vertical-align: middle;\n",
       "    }\n",
       "\n",
       "    .dataframe tbody tr th {\n",
       "        vertical-align: top;\n",
       "    }\n",
       "\n",
       "    .dataframe thead th {\n",
       "        text-align: right;\n",
       "    }\n",
       "</style>\n",
       "<table border=\"1\" class=\"dataframe\">\n",
       "  <thead>\n",
       "    <tr style=\"text-align: right;\">\n",
       "      <th></th>\n",
       "      <th>22</th>\n",
       "      <th>222</th>\n",
       "      <th>cab</th>\n",
       "      <th>call</th>\n",
       "      <th>me</th>\n",
       "      <th>please</th>\n",
       "      <th>tonight</th>\n",
       "      <th>you</th>\n",
       "    </tr>\n",
       "  </thead>\n",
       "  <tbody>\n",
       "    <tr>\n",
       "      <th>Please don't call me, I will be busy</th>\n",
       "      <td>0</td>\n",
       "      <td>0</td>\n",
       "      <td>0</td>\n",
       "      <td>1</td>\n",
       "      <td>1</td>\n",
       "      <td>1</td>\n",
       "      <td>0</td>\n",
       "      <td>0</td>\n",
       "    </tr>\n",
       "  </tbody>\n",
       "</table>\n",
       "</div>"
      ],
      "text/plain": [
       "                                      22  222  cab  call  me  please  tonight  \\\n",
       "Please don't call me, I will be busy   0    0    0     1   1       1        0   \n",
       "\n",
       "                                      you  \n",
       "Please don't call me, I will be busy    0  "
      ]
     },
     "execution_count": 98,
     "metadata": {},
     "output_type": "execute_result"
    }
   ],
   "source": [
    "pd.DataFrame(simple_test_matrix.toarray(), columns=vect.get_feature_names(), index=simple_test)"
   ]
  },
  {
   "cell_type": "code",
   "execution_count": 101,
   "metadata": {},
   "outputs": [
    {
     "name": "stdout",
     "output_type": "stream",
     "text": [
      "Requirement already satisfied: pymorphy2 in /Users/rogovich/opt/anaconda3/lib/python3.8/site-packages (0.9.1)\n",
      "Requirement already satisfied: docopt>=0.6 in /Users/rogovich/opt/anaconda3/lib/python3.8/site-packages (from pymorphy2) (0.6.2)\n",
      "Requirement already satisfied: dawg-python>=0.7.1 in /Users/rogovich/opt/anaconda3/lib/python3.8/site-packages (from pymorphy2) (0.7.2)\n",
      "Requirement already satisfied: pymorphy2-dicts-ru<3.0,>=2.4 in /Users/rogovich/opt/anaconda3/lib/python3.8/site-packages (from pymorphy2) (2.4.417127.4579844)\n",
      "\u001b[33mWARNING: You are using pip version 21.3.1; however, version 22.1.2 is available.\n",
      "You should consider upgrading via the '/Users/rogovich/opt/anaconda3/bin/python -m pip install --upgrade pip' command.\u001b[0m\n"
     ]
    }
   ],
   "source": [
    "!pip install pymorphy2"
   ]
  },
  {
   "cell_type": "code",
   "execution_count": 107,
   "metadata": {},
   "outputs": [
    {
     "data": {
      "text/plain": [
       "'стать'"
      ]
     },
     "execution_count": 107,
     "metadata": {},
     "output_type": "execute_result"
    }
   ],
   "source": [
    "import pymorphy2\n",
    "morph = pymorphy2.MorphAnalyzer()\n",
    "morph.parse('стали')[0].normal_form"
   ]
  },
  {
   "cell_type": "code",
   "execution_count": 108,
   "metadata": {},
   "outputs": [
    {
     "name": "stdout",
     "output_type": "stream",
     "text": [
      "сегодняшний\n",
      "самостоятельный\n",
      "стать\n",
      "небольшой\n",
      "домашний\n",
      "задание\n",
      "с\n",
      "дедлайн\n",
      "до\n",
      "среда\n"
     ]
    }
   ],
   "source": [
    "text = \"сегодняшняя самостоятельная станет небольшим домашним заданием с дедлайном до среды\"\n",
    "for word in text.split():\n",
    "    print(morph.parse(word)[0].normal_form)\n"
   ]
  },
  {
   "cell_type": "code",
   "execution_count": 109,
   "metadata": {},
   "outputs": [
    {
     "name": "stderr",
     "output_type": "stream",
     "text": [
      "/Users/rogovich/opt/anaconda3/lib/python3.8/site-packages/requests/__init__.py:89: RequestsDependencyWarning: urllib3 (1.26.8) or chardet (3.0.4) doesn't match a supported version!\n",
      "  warnings.warn(\"urllib3 ({}) or chardet ({}) doesn't match a supported \"\n"
     ]
    },
    {
     "name": "stdout",
     "output_type": "stream",
     "text": [
      "c\n",
      "а\n",
      "алло\n",
      "без\n",
      "белый\n",
      "близко\n",
      "более\n",
      "больше\n",
      "большой\n",
      "будем\n",
      "будет\n",
      "будете\n",
      "будешь\n",
      "будто\n",
      "буду\n",
      "будут\n",
      "будь\n",
      "бы\n",
      "бывает\n",
      "бывь\n",
      "был\n",
      "была\n",
      "были\n",
      "было\n",
      "быть\n",
      "в\n",
      "важная\n",
      "важное\n",
      "важные\n",
      "важный\n",
      "вам\n",
      "вами\n",
      "вас\n",
      "ваш\n",
      "ваша\n",
      "ваше\n",
      "ваши\n",
      "вверх\n",
      "вдали\n",
      "вдруг\n",
      "ведь\n",
      "везде\n",
      "вернуться\n",
      "весь\n",
      "вечер\n",
      "взгляд\n",
      "взять\n",
      "вид\n",
      "видел\n",
      "видеть\n",
      "вместе\n",
      "вне\n",
      "вниз\n",
      "внизу\n",
      "во\n",
      "вода\n",
      "война\n",
      "вокруг\n",
      "вон\n",
      "вообще\n",
      "вопрос\n",
      "восемнадцатый\n",
      "восемнадцать\n",
      "восемь\n",
      "восьмой\n",
      "вот\n",
      "впрочем\n",
      "времени\n",
      "время\n",
      "все\n",
      "все еще\n",
      "всегда\n",
      "всего\n",
      "всем\n",
      "всеми\n",
      "всему\n",
      "всех\n",
      "всею\n",
      "всю\n",
      "всюду\n",
      "вся\n",
      "всё\n",
      "второй\n",
      "вы\n",
      "выйти\n",
      "г\n",
      "где\n",
      "главный\n",
      "глаз\n",
      "говорил\n",
      "говорит\n",
      "говорить\n",
      "год\n",
      "года\n",
      "году\n",
      "голова\n",
      "голос\n",
      "город\n",
      "да\n",
      "давать\n",
      "давно\n",
      "даже\n",
      "далекий\n",
      "далеко\n",
      "дальше\n",
      "даром\n",
      "дать\n",
      "два\n",
      "двадцатый\n",
      "двадцать\n",
      "две\n",
      "двенадцатый\n",
      "двенадцать\n",
      "дверь\n",
      "двух\n",
      "девятнадцатый\n",
      "девятнадцать\n",
      "девятый\n",
      "девять\n",
      "действительно\n",
      "дел\n",
      "делал\n",
      "делать\n",
      "делаю\n",
      "дело\n",
      "день\n",
      "деньги\n",
      "десятый\n",
      "десять\n",
      "для\n",
      "до\n",
      "довольно\n",
      "долго\n",
      "должен\n",
      "должно\n",
      "должный\n",
      "дом\n",
      "дорога\n",
      "друг\n",
      "другая\n",
      "другие\n",
      "других\n",
      "друго\n",
      "другое\n",
      "другой\n",
      "думать\n",
      "душа\n",
      "е\n",
      "его\n",
      "ее\n",
      "ей\n",
      "ему\n",
      "если\n",
      "есть\n",
      "еще\n",
      "ещё\n",
      "ею\n",
      "её\n",
      "ж\n",
      "ждать\n",
      "же\n",
      "жена\n",
      "женщина\n",
      "жизнь\n",
      "жить\n",
      "за\n",
      "занят\n",
      "занята\n",
      "занято\n",
      "заняты\n",
      "затем\n",
      "зато\n",
      "зачем\n",
      "здесь\n",
      "земля\n",
      "знать\n",
      "значит\n",
      "значить\n",
      "и\n",
      "иди\n",
      "идти\n",
      "из\n",
      "или\n",
      "им\n",
      "имеет\n",
      "имел\n",
      "именно\n",
      "иметь\n",
      "ими\n",
      "имя\n",
      "иногда\n",
      "их\n",
      "к\n",
      "каждая\n",
      "каждое\n",
      "каждые\n",
      "каждый\n",
      "кажется\n",
      "казаться\n",
      "как\n",
      "какая\n",
      "какой\n",
      "кем\n",
      "книга\n",
      "когда\n",
      "кого\n",
      "ком\n",
      "комната\n",
      "кому\n",
      "конец\n",
      "конечно\n",
      "которая\n",
      "которого\n",
      "которой\n",
      "которые\n",
      "который\n",
      "которых\n",
      "кроме\n",
      "кругом\n",
      "кто\n",
      "куда\n",
      "лежать\n",
      "лет\n",
      "ли\n",
      "лицо\n",
      "лишь\n",
      "лучше\n",
      "любить\n",
      "люди\n",
      "м\n",
      "маленький\n",
      "мало\n",
      "мать\n",
      "машина\n",
      "между\n",
      "меля\n",
      "менее\n",
      "меньше\n",
      "меня\n",
      "место\n",
      "миллионов\n",
      "мимо\n",
      "минута\n",
      "мир\n",
      "мира\n",
      "мне\n",
      "много\n",
      "многочисленная\n",
      "многочисленное\n",
      "многочисленные\n",
      "многочисленный\n",
      "мной\n",
      "мною\n",
      "мог\n",
      "могу\n",
      "могут\n",
      "мож\n",
      "может\n",
      "может быть\n",
      "можно\n",
      "можхо\n",
      "мои\n",
      "мой\n",
      "мор\n",
      "москва\n",
      "мочь\n",
      "моя\n",
      "моё\n",
      "мы\n",
      "на\n",
      "наверху\n",
      "над\n",
      "надо\n",
      "назад\n",
      "наиболее\n",
      "найти\n",
      "наконец\n",
      "нам\n",
      "нами\n",
      "народ\n",
      "нас\n",
      "начала\n",
      "начать\n",
      "наш\n",
      "наша\n",
      "наше\n",
      "наши\n",
      "не\n",
      "него\n",
      "недавно\n",
      "недалеко\n",
      "нее\n",
      "ней\n",
      "некоторый\n",
      "нельзя\n",
      "нем\n",
      "немного\n",
      "нему\n",
      "непрерывно\n",
      "нередко\n",
      "несколько\n",
      "нет\n",
      "нею\n",
      "неё\n",
      "ни\n",
      "нибудь\n",
      "ниже\n",
      "низко\n",
      "никакой\n",
      "никогда\n",
      "никто\n",
      "никуда\n",
      "ним\n",
      "ними\n",
      "них\n",
      "ничего\n",
      "ничто\n",
      "но\n",
      "новый\n",
      "нога\n",
      "ночь\n",
      "ну\n",
      "нужно\n",
      "нужный\n",
      "нх\n",
      "о\n",
      "об\n",
      "оба\n",
      "обычно\n",
      "один\n",
      "одиннадцатый\n",
      "одиннадцать\n",
      "однажды\n",
      "однако\n",
      "одного\n",
      "одной\n",
      "оказаться\n",
      "окно\n",
      "около\n",
      "он\n",
      "она\n",
      "они\n",
      "оно\n",
      "опять\n",
      "особенно\n",
      "остаться\n",
      "от\n",
      "ответить\n",
      "отец\n",
      "откуда\n",
      "отовсюду\n",
      "отсюда\n",
      "очень\n",
      "первый\n",
      "перед\n",
      "писать\n",
      "плечо\n",
      "по\n",
      "под\n",
      "подойди\n",
      "подумать\n",
      "пожалуйста\n",
      "позже\n",
      "пойти\n",
      "пока\n",
      "пол\n",
      "получить\n",
      "помнить\n",
      "понимать\n",
      "понять\n",
      "пор\n",
      "пора\n",
      "после\n",
      "последний\n",
      "посмотреть\n",
      "посреди\n",
      "потом\n",
      "потому\n",
      "почему\n",
      "почти\n",
      "правда\n",
      "прекрасно\n",
      "при\n",
      "про\n",
      "просто\n",
      "против\n",
      "процентов\n",
      "путь\n",
      "пятнадцатый\n",
      "пятнадцать\n",
      "пятый\n",
      "пять\n",
      "работа\n",
      "работать\n",
      "раз\n",
      "разве\n",
      "рано\n",
      "раньше\n",
      "ребенок\n",
      "решить\n",
      "россия\n",
      "рука\n",
      "русский\n",
      "ряд\n",
      "рядом\n",
      "с\n",
      "с кем\n",
      "сам\n",
      "сама\n",
      "сами\n",
      "самим\n",
      "самими\n",
      "самих\n",
      "само\n",
      "самого\n",
      "самой\n",
      "самом\n",
      "самому\n",
      "саму\n",
      "самый\n",
      "свет\n",
      "свое\n",
      "своего\n",
      "своей\n",
      "свои\n",
      "своих\n",
      "свой\n",
      "свою\n",
      "сделать\n",
      "сеаой\n",
      "себе\n",
      "себя\n",
      "сегодня\n",
      "седьмой\n",
      "сейчас\n",
      "семнадцатый\n",
      "семнадцать\n",
      "семь\n",
      "сидеть\n",
      "сила\n",
      "сих\n",
      "сказал\n",
      "сказала\n",
      "сказать\n",
      "сколько\n",
      "слишком\n",
      "слово\n",
      "случай\n",
      "смотреть\n",
      "сначала\n",
      "снова\n",
      "со\n",
      "собой\n",
      "собою\n",
      "советский\n",
      "совсем\n",
      "спасибо\n",
      "спросить\n",
      "сразу\n",
      "стал\n",
      "старый\n",
      "стать\n",
      "стол\n",
      "сторона\n",
      "стоять\n",
      "страна\n",
      "суть\n",
      "считать\n",
      "т\n",
      "та\n",
      "так\n",
      "такая\n",
      "также\n",
      "таки\n",
      "такие\n",
      "такое\n",
      "такой\n",
      "там\n",
      "твои\n",
      "твой\n",
      "твоя\n",
      "твоё\n",
      "те\n",
      "тебе\n",
      "тебя\n",
      "тем\n",
      "теми\n",
      "теперь\n",
      "тех\n",
      "то\n",
      "тобой\n",
      "тобою\n",
      "товарищ\n",
      "тогда\n",
      "того\n",
      "тоже\n",
      "только\n",
      "том\n",
      "тому\n",
      "тот\n",
      "тою\n",
      "третий\n",
      "три\n",
      "тринадцатый\n",
      "тринадцать\n",
      "ту\n",
      "туда\n",
      "тут\n",
      "ты\n",
      "тысяч\n",
      "у\n",
      "увидеть\n",
      "уж\n",
      "уже\n",
      "улица\n",
      "уметь\n",
      "утро\n",
      "хороший\n",
      "хорошо\n",
      "хотел бы\n",
      "хотеть\n",
      "хоть\n",
      "хотя\n",
      "хочешь\n",
      "час\n",
      "часто\n",
      "часть\n",
      "чаще\n",
      "чего\n",
      "человек\n",
      "чем\n",
      "чему\n",
      "через\n",
      "четвертый\n",
      "четыре\n",
      "четырнадцатый\n",
      "четырнадцать\n",
      "что\n",
      "чтоб\n",
      "чтобы\n",
      "чуть\n",
      "шестнадцатый\n",
      "шестнадцать\n",
      "шестой\n",
      "шесть\n",
      "эта\n",
      "эти\n",
      "этим\n",
      "этими\n",
      "этих\n",
      "это\n",
      "этого\n",
      "этой\n",
      "этом\n",
      "этому\n",
      "этот\n",
      "эту\n",
      "я\n",
      "являюсь\n"
     ]
    }
   ],
   "source": [
    "import requests\n",
    "ru_stopwords = requests.get('https://raw.githubusercontent.com/stopwords-iso/stopwords-ru/master/stopwords-ru.txt').text\n",
    "print(ru_stopwords)"
   ]
  },
  {
   "cell_type": "code",
   "execution_count": null,
   "metadata": {},
   "outputs": [],
   "source": []
  }
 ],
 "metadata": {
  "kernelspec": {
   "display_name": "Python 3",
   "language": "python",
   "name": "python3"
  },
  "language_info": {
   "codemirror_mode": {
    "name": "ipython",
    "version": 3
   },
   "file_extension": ".py",
   "mimetype": "text/x-python",
   "name": "python",
   "nbconvert_exporter": "python",
   "pygments_lexer": "ipython3",
   "version": "3.8.5"
  }
 },
 "nbformat": 4,
 "nbformat_minor": 4
}
